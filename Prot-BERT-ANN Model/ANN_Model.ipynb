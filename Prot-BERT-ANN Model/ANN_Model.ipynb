{
  "nbformat": 4,
  "nbformat_minor": 0,
  "metadata": {
    "colab": {
      "provenance": []
    },
    "kernelspec": {
      "name": "python3",
      "display_name": "Python 3"
    },
    "language_info": {
      "name": "python"
    }
  },
  "cells": [
    {
      "cell_type": "code",
      "execution_count": 30,
      "metadata": {
        "id": "LCaEeZzlLWc-"
      },
      "outputs": [],
      "source": [
        "import pandas as pd\n",
        "import numpy as np\n",
        "import tensorflow as tf\n",
        "from tensorflow import keras\n",
        "from sklearn.model_selection import train_test_split\n",
        "from sklearn.preprocessing import StandardScaler\n",
        "from sklearn.metrics import accuracy_score, classification_report\n",
        "\n"
      ]
    },
    {
      "cell_type": "code",
      "source": [
        "import sklearn\n",
        "print(sklearn.__version__)\n"
      ],
      "metadata": {
        "id": "CPBnomBCmmBs",
        "outputId": "82c60879-ec70-4e79-8668-2b91f22ce0fb",
        "colab": {
          "base_uri": "https://localhost:8080/"
        }
      },
      "execution_count": 31,
      "outputs": [
        {
          "output_type": "stream",
          "name": "stdout",
          "text": [
            "1.6.1\n"
          ]
        }
      ]
    },
    {
      "cell_type": "markdown",
      "source": [
        "# The Extracted Protein Embeddings are given as features for the ANN model"
      ],
      "metadata": {
        "id": "wL8RdT5ndH6a"
      }
    },
    {
      "cell_type": "code",
      "source": [
        "df = pd.read_csv('IAV_protein_embeddings.csv')"
      ],
      "metadata": {
        "id": "JCyD_VcSLivs"
      },
      "execution_count": 32,
      "outputs": []
    },
    {
      "cell_type": "code",
      "source": [
        "df.head()"
      ],
      "metadata": {
        "colab": {
          "base_uri": "https://localhost:8080/",
          "height": 255
        },
        "id": "2l8-qzvCLmYL",
        "outputId": "ec59fd4d-66c4-4e4e-fe5e-2569d40ccabc"
      },
      "execution_count": 33,
      "outputs": [
        {
          "output_type": "execute_result",
          "data": {
            "text/plain": [
              "  Protein Residue     dim_0     dim_1     dim_2     dim_3     dim_4     dim_5  \\\n",
              "0     PB2       M  0.138675  0.114954  0.016611 -0.186882  0.357470 -0.031516   \n",
              "1     PB2       E  0.295498  0.252771 -0.043344 -0.075328  0.243561 -0.072011   \n",
              "2     PB2       R  0.213702 -0.026247  0.022503 -0.128081  0.247981 -0.098613   \n",
              "3     PB2       I  0.153882  0.212552 -0.031012 -0.273558  0.297250 -0.139223   \n",
              "4     PB2       K  0.086637  0.087466  0.014072 -0.136910  0.015821 -0.044122   \n",
              "\n",
              "      dim_6     dim_7  ...  dim_1014  dim_1015  dim_1016  dim_1017  dim_1018  \\\n",
              "0 -0.093675  0.105905  ... -0.020714 -0.097386  0.172344 -0.161910 -0.194056   \n",
              "1  0.037045 -0.073867  ...  0.104960  0.008959  0.285269 -0.134248 -0.076227   \n",
              "2  0.031823 -0.005455  ...  0.042799  0.025040  0.161958 -0.132909 -0.057627   \n",
              "3 -0.011403 -0.062481  ...  0.100236  0.056037  0.295270 -0.202785 -0.063105   \n",
              "4  0.159113 -0.040468  ...  0.005490 -0.044764  0.198593 -0.229706  0.016088   \n",
              "\n",
              "   dim_1019  dim_1020  dim_1021  dim_1022  dim_1023  \n",
              "0 -0.016929 -0.065171 -0.071046 -0.131304 -0.105250  \n",
              "1 -0.148178  0.020548 -0.226756 -0.149339  0.093640  \n",
              "2 -0.103322 -0.112413 -0.053925 -0.189408 -0.114455  \n",
              "3 -0.154799 -0.233887 -0.089071 -0.092282  0.049376  \n",
              "4 -0.045163 -0.070646 -0.179592 -0.176363 -0.181344  \n",
              "\n",
              "[5 rows x 1026 columns]"
            ],
            "text/html": [
              "\n",
              "  <div id=\"df-315c6db7-203c-4020-a6dc-0f366ba9f491\" class=\"colab-df-container\">\n",
              "    <div>\n",
              "<style scoped>\n",
              "    .dataframe tbody tr th:only-of-type {\n",
              "        vertical-align: middle;\n",
              "    }\n",
              "\n",
              "    .dataframe tbody tr th {\n",
              "        vertical-align: top;\n",
              "    }\n",
              "\n",
              "    .dataframe thead th {\n",
              "        text-align: right;\n",
              "    }\n",
              "</style>\n",
              "<table border=\"1\" class=\"dataframe\">\n",
              "  <thead>\n",
              "    <tr style=\"text-align: right;\">\n",
              "      <th></th>\n",
              "      <th>Protein</th>\n",
              "      <th>Residue</th>\n",
              "      <th>dim_0</th>\n",
              "      <th>dim_1</th>\n",
              "      <th>dim_2</th>\n",
              "      <th>dim_3</th>\n",
              "      <th>dim_4</th>\n",
              "      <th>dim_5</th>\n",
              "      <th>dim_6</th>\n",
              "      <th>dim_7</th>\n",
              "      <th>...</th>\n",
              "      <th>dim_1014</th>\n",
              "      <th>dim_1015</th>\n",
              "      <th>dim_1016</th>\n",
              "      <th>dim_1017</th>\n",
              "      <th>dim_1018</th>\n",
              "      <th>dim_1019</th>\n",
              "      <th>dim_1020</th>\n",
              "      <th>dim_1021</th>\n",
              "      <th>dim_1022</th>\n",
              "      <th>dim_1023</th>\n",
              "    </tr>\n",
              "  </thead>\n",
              "  <tbody>\n",
              "    <tr>\n",
              "      <th>0</th>\n",
              "      <td>PB2</td>\n",
              "      <td>M</td>\n",
              "      <td>0.138675</td>\n",
              "      <td>0.114954</td>\n",
              "      <td>0.016611</td>\n",
              "      <td>-0.186882</td>\n",
              "      <td>0.357470</td>\n",
              "      <td>-0.031516</td>\n",
              "      <td>-0.093675</td>\n",
              "      <td>0.105905</td>\n",
              "      <td>...</td>\n",
              "      <td>-0.020714</td>\n",
              "      <td>-0.097386</td>\n",
              "      <td>0.172344</td>\n",
              "      <td>-0.161910</td>\n",
              "      <td>-0.194056</td>\n",
              "      <td>-0.016929</td>\n",
              "      <td>-0.065171</td>\n",
              "      <td>-0.071046</td>\n",
              "      <td>-0.131304</td>\n",
              "      <td>-0.105250</td>\n",
              "    </tr>\n",
              "    <tr>\n",
              "      <th>1</th>\n",
              "      <td>PB2</td>\n",
              "      <td>E</td>\n",
              "      <td>0.295498</td>\n",
              "      <td>0.252771</td>\n",
              "      <td>-0.043344</td>\n",
              "      <td>-0.075328</td>\n",
              "      <td>0.243561</td>\n",
              "      <td>-0.072011</td>\n",
              "      <td>0.037045</td>\n",
              "      <td>-0.073867</td>\n",
              "      <td>...</td>\n",
              "      <td>0.104960</td>\n",
              "      <td>0.008959</td>\n",
              "      <td>0.285269</td>\n",
              "      <td>-0.134248</td>\n",
              "      <td>-0.076227</td>\n",
              "      <td>-0.148178</td>\n",
              "      <td>0.020548</td>\n",
              "      <td>-0.226756</td>\n",
              "      <td>-0.149339</td>\n",
              "      <td>0.093640</td>\n",
              "    </tr>\n",
              "    <tr>\n",
              "      <th>2</th>\n",
              "      <td>PB2</td>\n",
              "      <td>R</td>\n",
              "      <td>0.213702</td>\n",
              "      <td>-0.026247</td>\n",
              "      <td>0.022503</td>\n",
              "      <td>-0.128081</td>\n",
              "      <td>0.247981</td>\n",
              "      <td>-0.098613</td>\n",
              "      <td>0.031823</td>\n",
              "      <td>-0.005455</td>\n",
              "      <td>...</td>\n",
              "      <td>0.042799</td>\n",
              "      <td>0.025040</td>\n",
              "      <td>0.161958</td>\n",
              "      <td>-0.132909</td>\n",
              "      <td>-0.057627</td>\n",
              "      <td>-0.103322</td>\n",
              "      <td>-0.112413</td>\n",
              "      <td>-0.053925</td>\n",
              "      <td>-0.189408</td>\n",
              "      <td>-0.114455</td>\n",
              "    </tr>\n",
              "    <tr>\n",
              "      <th>3</th>\n",
              "      <td>PB2</td>\n",
              "      <td>I</td>\n",
              "      <td>0.153882</td>\n",
              "      <td>0.212552</td>\n",
              "      <td>-0.031012</td>\n",
              "      <td>-0.273558</td>\n",
              "      <td>0.297250</td>\n",
              "      <td>-0.139223</td>\n",
              "      <td>-0.011403</td>\n",
              "      <td>-0.062481</td>\n",
              "      <td>...</td>\n",
              "      <td>0.100236</td>\n",
              "      <td>0.056037</td>\n",
              "      <td>0.295270</td>\n",
              "      <td>-0.202785</td>\n",
              "      <td>-0.063105</td>\n",
              "      <td>-0.154799</td>\n",
              "      <td>-0.233887</td>\n",
              "      <td>-0.089071</td>\n",
              "      <td>-0.092282</td>\n",
              "      <td>0.049376</td>\n",
              "    </tr>\n",
              "    <tr>\n",
              "      <th>4</th>\n",
              "      <td>PB2</td>\n",
              "      <td>K</td>\n",
              "      <td>0.086637</td>\n",
              "      <td>0.087466</td>\n",
              "      <td>0.014072</td>\n",
              "      <td>-0.136910</td>\n",
              "      <td>0.015821</td>\n",
              "      <td>-0.044122</td>\n",
              "      <td>0.159113</td>\n",
              "      <td>-0.040468</td>\n",
              "      <td>...</td>\n",
              "      <td>0.005490</td>\n",
              "      <td>-0.044764</td>\n",
              "      <td>0.198593</td>\n",
              "      <td>-0.229706</td>\n",
              "      <td>0.016088</td>\n",
              "      <td>-0.045163</td>\n",
              "      <td>-0.070646</td>\n",
              "      <td>-0.179592</td>\n",
              "      <td>-0.176363</td>\n",
              "      <td>-0.181344</td>\n",
              "    </tr>\n",
              "  </tbody>\n",
              "</table>\n",
              "<p>5 rows × 1026 columns</p>\n",
              "</div>\n",
              "    <div class=\"colab-df-buttons\">\n",
              "\n",
              "  <div class=\"colab-df-container\">\n",
              "    <button class=\"colab-df-convert\" onclick=\"convertToInteractive('df-315c6db7-203c-4020-a6dc-0f366ba9f491')\"\n",
              "            title=\"Convert this dataframe to an interactive table.\"\n",
              "            style=\"display:none;\">\n",
              "\n",
              "  <svg xmlns=\"http://www.w3.org/2000/svg\" height=\"24px\" viewBox=\"0 -960 960 960\">\n",
              "    <path d=\"M120-120v-720h720v720H120Zm60-500h600v-160H180v160Zm220 220h160v-160H400v160Zm0 220h160v-160H400v160ZM180-400h160v-160H180v160Zm440 0h160v-160H620v160ZM180-180h160v-160H180v160Zm440 0h160v-160H620v160Z\"/>\n",
              "  </svg>\n",
              "    </button>\n",
              "\n",
              "  <style>\n",
              "    .colab-df-container {\n",
              "      display:flex;\n",
              "      gap: 12px;\n",
              "    }\n",
              "\n",
              "    .colab-df-convert {\n",
              "      background-color: #E8F0FE;\n",
              "      border: none;\n",
              "      border-radius: 50%;\n",
              "      cursor: pointer;\n",
              "      display: none;\n",
              "      fill: #1967D2;\n",
              "      height: 32px;\n",
              "      padding: 0 0 0 0;\n",
              "      width: 32px;\n",
              "    }\n",
              "\n",
              "    .colab-df-convert:hover {\n",
              "      background-color: #E2EBFA;\n",
              "      box-shadow: 0px 1px 2px rgba(60, 64, 67, 0.3), 0px 1px 3px 1px rgba(60, 64, 67, 0.15);\n",
              "      fill: #174EA6;\n",
              "    }\n",
              "\n",
              "    .colab-df-buttons div {\n",
              "      margin-bottom: 4px;\n",
              "    }\n",
              "\n",
              "    [theme=dark] .colab-df-convert {\n",
              "      background-color: #3B4455;\n",
              "      fill: #D2E3FC;\n",
              "    }\n",
              "\n",
              "    [theme=dark] .colab-df-convert:hover {\n",
              "      background-color: #434B5C;\n",
              "      box-shadow: 0px 1px 3px 1px rgba(0, 0, 0, 0.15);\n",
              "      filter: drop-shadow(0px 1px 2px rgba(0, 0, 0, 0.3));\n",
              "      fill: #FFFFFF;\n",
              "    }\n",
              "  </style>\n",
              "\n",
              "    <script>\n",
              "      const buttonEl =\n",
              "        document.querySelector('#df-315c6db7-203c-4020-a6dc-0f366ba9f491 button.colab-df-convert');\n",
              "      buttonEl.style.display =\n",
              "        google.colab.kernel.accessAllowed ? 'block' : 'none';\n",
              "\n",
              "      async function convertToInteractive(key) {\n",
              "        const element = document.querySelector('#df-315c6db7-203c-4020-a6dc-0f366ba9f491');\n",
              "        const dataTable =\n",
              "          await google.colab.kernel.invokeFunction('convertToInteractive',\n",
              "                                                    [key], {});\n",
              "        if (!dataTable) return;\n",
              "\n",
              "        const docLinkHtml = 'Like what you see? Visit the ' +\n",
              "          '<a target=\"_blank\" href=https://colab.research.google.com/notebooks/data_table.ipynb>data table notebook</a>'\n",
              "          + ' to learn more about interactive tables.';\n",
              "        element.innerHTML = '';\n",
              "        dataTable['output_type'] = 'display_data';\n",
              "        await google.colab.output.renderOutput(dataTable, element);\n",
              "        const docLink = document.createElement('div');\n",
              "        docLink.innerHTML = docLinkHtml;\n",
              "        element.appendChild(docLink);\n",
              "      }\n",
              "    </script>\n",
              "  </div>\n",
              "\n",
              "\n",
              "    <div id=\"df-075b01e1-1c45-48ed-b710-b54a8073d7a4\">\n",
              "      <button class=\"colab-df-quickchart\" onclick=\"quickchart('df-075b01e1-1c45-48ed-b710-b54a8073d7a4')\"\n",
              "                title=\"Suggest charts\"\n",
              "                style=\"display:none;\">\n",
              "\n",
              "<svg xmlns=\"http://www.w3.org/2000/svg\" height=\"24px\"viewBox=\"0 0 24 24\"\n",
              "     width=\"24px\">\n",
              "    <g>\n",
              "        <path d=\"M19 3H5c-1.1 0-2 .9-2 2v14c0 1.1.9 2 2 2h14c1.1 0 2-.9 2-2V5c0-1.1-.9-2-2-2zM9 17H7v-7h2v7zm4 0h-2V7h2v10zm4 0h-2v-4h2v4z\"/>\n",
              "    </g>\n",
              "</svg>\n",
              "      </button>\n",
              "\n",
              "<style>\n",
              "  .colab-df-quickchart {\n",
              "      --bg-color: #E8F0FE;\n",
              "      --fill-color: #1967D2;\n",
              "      --hover-bg-color: #E2EBFA;\n",
              "      --hover-fill-color: #174EA6;\n",
              "      --disabled-fill-color: #AAA;\n",
              "      --disabled-bg-color: #DDD;\n",
              "  }\n",
              "\n",
              "  [theme=dark] .colab-df-quickchart {\n",
              "      --bg-color: #3B4455;\n",
              "      --fill-color: #D2E3FC;\n",
              "      --hover-bg-color: #434B5C;\n",
              "      --hover-fill-color: #FFFFFF;\n",
              "      --disabled-bg-color: #3B4455;\n",
              "      --disabled-fill-color: #666;\n",
              "  }\n",
              "\n",
              "  .colab-df-quickchart {\n",
              "    background-color: var(--bg-color);\n",
              "    border: none;\n",
              "    border-radius: 50%;\n",
              "    cursor: pointer;\n",
              "    display: none;\n",
              "    fill: var(--fill-color);\n",
              "    height: 32px;\n",
              "    padding: 0;\n",
              "    width: 32px;\n",
              "  }\n",
              "\n",
              "  .colab-df-quickchart:hover {\n",
              "    background-color: var(--hover-bg-color);\n",
              "    box-shadow: 0 1px 2px rgba(60, 64, 67, 0.3), 0 1px 3px 1px rgba(60, 64, 67, 0.15);\n",
              "    fill: var(--button-hover-fill-color);\n",
              "  }\n",
              "\n",
              "  .colab-df-quickchart-complete:disabled,\n",
              "  .colab-df-quickchart-complete:disabled:hover {\n",
              "    background-color: var(--disabled-bg-color);\n",
              "    fill: var(--disabled-fill-color);\n",
              "    box-shadow: none;\n",
              "  }\n",
              "\n",
              "  .colab-df-spinner {\n",
              "    border: 2px solid var(--fill-color);\n",
              "    border-color: transparent;\n",
              "    border-bottom-color: var(--fill-color);\n",
              "    animation:\n",
              "      spin 1s steps(1) infinite;\n",
              "  }\n",
              "\n",
              "  @keyframes spin {\n",
              "    0% {\n",
              "      border-color: transparent;\n",
              "      border-bottom-color: var(--fill-color);\n",
              "      border-left-color: var(--fill-color);\n",
              "    }\n",
              "    20% {\n",
              "      border-color: transparent;\n",
              "      border-left-color: var(--fill-color);\n",
              "      border-top-color: var(--fill-color);\n",
              "    }\n",
              "    30% {\n",
              "      border-color: transparent;\n",
              "      border-left-color: var(--fill-color);\n",
              "      border-top-color: var(--fill-color);\n",
              "      border-right-color: var(--fill-color);\n",
              "    }\n",
              "    40% {\n",
              "      border-color: transparent;\n",
              "      border-right-color: var(--fill-color);\n",
              "      border-top-color: var(--fill-color);\n",
              "    }\n",
              "    60% {\n",
              "      border-color: transparent;\n",
              "      border-right-color: var(--fill-color);\n",
              "    }\n",
              "    80% {\n",
              "      border-color: transparent;\n",
              "      border-right-color: var(--fill-color);\n",
              "      border-bottom-color: var(--fill-color);\n",
              "    }\n",
              "    90% {\n",
              "      border-color: transparent;\n",
              "      border-bottom-color: var(--fill-color);\n",
              "    }\n",
              "  }\n",
              "</style>\n",
              "\n",
              "      <script>\n",
              "        async function quickchart(key) {\n",
              "          const quickchartButtonEl =\n",
              "            document.querySelector('#' + key + ' button');\n",
              "          quickchartButtonEl.disabled = true;  // To prevent multiple clicks.\n",
              "          quickchartButtonEl.classList.add('colab-df-spinner');\n",
              "          try {\n",
              "            const charts = await google.colab.kernel.invokeFunction(\n",
              "                'suggestCharts', [key], {});\n",
              "          } catch (error) {\n",
              "            console.error('Error during call to suggestCharts:', error);\n",
              "          }\n",
              "          quickchartButtonEl.classList.remove('colab-df-spinner');\n",
              "          quickchartButtonEl.classList.add('colab-df-quickchart-complete');\n",
              "        }\n",
              "        (() => {\n",
              "          let quickchartButtonEl =\n",
              "            document.querySelector('#df-075b01e1-1c45-48ed-b710-b54a8073d7a4 button');\n",
              "          quickchartButtonEl.style.display =\n",
              "            google.colab.kernel.accessAllowed ? 'block' : 'none';\n",
              "        })();\n",
              "      </script>\n",
              "    </div>\n",
              "\n",
              "    </div>\n",
              "  </div>\n"
            ],
            "application/vnd.google.colaboratory.intrinsic+json": {
              "type": "dataframe",
              "variable_name": "df"
            }
          },
          "metadata": {},
          "execution_count": 33
        }
      ]
    },
    {
      "cell_type": "code",
      "source": [],
      "metadata": {
        "id": "4-Pd4Ks1dtTw"
      },
      "execution_count": 33,
      "outputs": []
    },
    {
      "cell_type": "code",
      "source": [
        "Interaction_Region_Dataset = pd.read_excel('IAV_Interaction_Region_Dataset.xlsx')"
      ],
      "metadata": {
        "id": "UfncHHTEdtkJ"
      },
      "execution_count": 34,
      "outputs": []
    },
    {
      "cell_type": "code",
      "source": [
        "df['Interaction_Region']= Interaction_Region_Dataset['Interaction_Region']\n",
        "df.head()"
      ],
      "metadata": {
        "colab": {
          "base_uri": "https://localhost:8080/",
          "height": 255
        },
        "id": "QuO8jUu-LizJ",
        "outputId": "e258bed5-e7c2-4d01-b25a-b43a7c4ede54"
      },
      "execution_count": 35,
      "outputs": [
        {
          "output_type": "execute_result",
          "data": {
            "text/plain": [
              "  Protein Residue     dim_0     dim_1     dim_2     dim_3     dim_4     dim_5  \\\n",
              "0     PB2       M  0.138675  0.114954  0.016611 -0.186882  0.357470 -0.031516   \n",
              "1     PB2       E  0.295498  0.252771 -0.043344 -0.075328  0.243561 -0.072011   \n",
              "2     PB2       R  0.213702 -0.026247  0.022503 -0.128081  0.247981 -0.098613   \n",
              "3     PB2       I  0.153882  0.212552 -0.031012 -0.273558  0.297250 -0.139223   \n",
              "4     PB2       K  0.086637  0.087466  0.014072 -0.136910  0.015821 -0.044122   \n",
              "\n",
              "      dim_6     dim_7  ...  dim_1015  dim_1016  dim_1017  dim_1018  dim_1019  \\\n",
              "0 -0.093675  0.105905  ... -0.097386  0.172344 -0.161910 -0.194056 -0.016929   \n",
              "1  0.037045 -0.073867  ...  0.008959  0.285269 -0.134248 -0.076227 -0.148178   \n",
              "2  0.031823 -0.005455  ...  0.025040  0.161958 -0.132909 -0.057627 -0.103322   \n",
              "3 -0.011403 -0.062481  ...  0.056037  0.295270 -0.202785 -0.063105 -0.154799   \n",
              "4  0.159113 -0.040468  ... -0.044764  0.198593 -0.229706  0.016088 -0.045163   \n",
              "\n",
              "   dim_1020  dim_1021  dim_1022  dim_1023  Interaction_Region  \n",
              "0 -0.065171 -0.071046 -0.131304 -0.105250                   0  \n",
              "1  0.020548 -0.226756 -0.149339  0.093640                   0  \n",
              "2 -0.112413 -0.053925 -0.189408 -0.114455                   0  \n",
              "3 -0.233887 -0.089071 -0.092282  0.049376                   0  \n",
              "4 -0.070646 -0.179592 -0.176363 -0.181344                   0  \n",
              "\n",
              "[5 rows x 1027 columns]"
            ],
            "text/html": [
              "\n",
              "  <div id=\"df-67f2d8f5-ef3a-4988-a14e-756af41dea24\" class=\"colab-df-container\">\n",
              "    <div>\n",
              "<style scoped>\n",
              "    .dataframe tbody tr th:only-of-type {\n",
              "        vertical-align: middle;\n",
              "    }\n",
              "\n",
              "    .dataframe tbody tr th {\n",
              "        vertical-align: top;\n",
              "    }\n",
              "\n",
              "    .dataframe thead th {\n",
              "        text-align: right;\n",
              "    }\n",
              "</style>\n",
              "<table border=\"1\" class=\"dataframe\">\n",
              "  <thead>\n",
              "    <tr style=\"text-align: right;\">\n",
              "      <th></th>\n",
              "      <th>Protein</th>\n",
              "      <th>Residue</th>\n",
              "      <th>dim_0</th>\n",
              "      <th>dim_1</th>\n",
              "      <th>dim_2</th>\n",
              "      <th>dim_3</th>\n",
              "      <th>dim_4</th>\n",
              "      <th>dim_5</th>\n",
              "      <th>dim_6</th>\n",
              "      <th>dim_7</th>\n",
              "      <th>...</th>\n",
              "      <th>dim_1015</th>\n",
              "      <th>dim_1016</th>\n",
              "      <th>dim_1017</th>\n",
              "      <th>dim_1018</th>\n",
              "      <th>dim_1019</th>\n",
              "      <th>dim_1020</th>\n",
              "      <th>dim_1021</th>\n",
              "      <th>dim_1022</th>\n",
              "      <th>dim_1023</th>\n",
              "      <th>Interaction_Region</th>\n",
              "    </tr>\n",
              "  </thead>\n",
              "  <tbody>\n",
              "    <tr>\n",
              "      <th>0</th>\n",
              "      <td>PB2</td>\n",
              "      <td>M</td>\n",
              "      <td>0.138675</td>\n",
              "      <td>0.114954</td>\n",
              "      <td>0.016611</td>\n",
              "      <td>-0.186882</td>\n",
              "      <td>0.357470</td>\n",
              "      <td>-0.031516</td>\n",
              "      <td>-0.093675</td>\n",
              "      <td>0.105905</td>\n",
              "      <td>...</td>\n",
              "      <td>-0.097386</td>\n",
              "      <td>0.172344</td>\n",
              "      <td>-0.161910</td>\n",
              "      <td>-0.194056</td>\n",
              "      <td>-0.016929</td>\n",
              "      <td>-0.065171</td>\n",
              "      <td>-0.071046</td>\n",
              "      <td>-0.131304</td>\n",
              "      <td>-0.105250</td>\n",
              "      <td>0</td>\n",
              "    </tr>\n",
              "    <tr>\n",
              "      <th>1</th>\n",
              "      <td>PB2</td>\n",
              "      <td>E</td>\n",
              "      <td>0.295498</td>\n",
              "      <td>0.252771</td>\n",
              "      <td>-0.043344</td>\n",
              "      <td>-0.075328</td>\n",
              "      <td>0.243561</td>\n",
              "      <td>-0.072011</td>\n",
              "      <td>0.037045</td>\n",
              "      <td>-0.073867</td>\n",
              "      <td>...</td>\n",
              "      <td>0.008959</td>\n",
              "      <td>0.285269</td>\n",
              "      <td>-0.134248</td>\n",
              "      <td>-0.076227</td>\n",
              "      <td>-0.148178</td>\n",
              "      <td>0.020548</td>\n",
              "      <td>-0.226756</td>\n",
              "      <td>-0.149339</td>\n",
              "      <td>0.093640</td>\n",
              "      <td>0</td>\n",
              "    </tr>\n",
              "    <tr>\n",
              "      <th>2</th>\n",
              "      <td>PB2</td>\n",
              "      <td>R</td>\n",
              "      <td>0.213702</td>\n",
              "      <td>-0.026247</td>\n",
              "      <td>0.022503</td>\n",
              "      <td>-0.128081</td>\n",
              "      <td>0.247981</td>\n",
              "      <td>-0.098613</td>\n",
              "      <td>0.031823</td>\n",
              "      <td>-0.005455</td>\n",
              "      <td>...</td>\n",
              "      <td>0.025040</td>\n",
              "      <td>0.161958</td>\n",
              "      <td>-0.132909</td>\n",
              "      <td>-0.057627</td>\n",
              "      <td>-0.103322</td>\n",
              "      <td>-0.112413</td>\n",
              "      <td>-0.053925</td>\n",
              "      <td>-0.189408</td>\n",
              "      <td>-0.114455</td>\n",
              "      <td>0</td>\n",
              "    </tr>\n",
              "    <tr>\n",
              "      <th>3</th>\n",
              "      <td>PB2</td>\n",
              "      <td>I</td>\n",
              "      <td>0.153882</td>\n",
              "      <td>0.212552</td>\n",
              "      <td>-0.031012</td>\n",
              "      <td>-0.273558</td>\n",
              "      <td>0.297250</td>\n",
              "      <td>-0.139223</td>\n",
              "      <td>-0.011403</td>\n",
              "      <td>-0.062481</td>\n",
              "      <td>...</td>\n",
              "      <td>0.056037</td>\n",
              "      <td>0.295270</td>\n",
              "      <td>-0.202785</td>\n",
              "      <td>-0.063105</td>\n",
              "      <td>-0.154799</td>\n",
              "      <td>-0.233887</td>\n",
              "      <td>-0.089071</td>\n",
              "      <td>-0.092282</td>\n",
              "      <td>0.049376</td>\n",
              "      <td>0</td>\n",
              "    </tr>\n",
              "    <tr>\n",
              "      <th>4</th>\n",
              "      <td>PB2</td>\n",
              "      <td>K</td>\n",
              "      <td>0.086637</td>\n",
              "      <td>0.087466</td>\n",
              "      <td>0.014072</td>\n",
              "      <td>-0.136910</td>\n",
              "      <td>0.015821</td>\n",
              "      <td>-0.044122</td>\n",
              "      <td>0.159113</td>\n",
              "      <td>-0.040468</td>\n",
              "      <td>...</td>\n",
              "      <td>-0.044764</td>\n",
              "      <td>0.198593</td>\n",
              "      <td>-0.229706</td>\n",
              "      <td>0.016088</td>\n",
              "      <td>-0.045163</td>\n",
              "      <td>-0.070646</td>\n",
              "      <td>-0.179592</td>\n",
              "      <td>-0.176363</td>\n",
              "      <td>-0.181344</td>\n",
              "      <td>0</td>\n",
              "    </tr>\n",
              "  </tbody>\n",
              "</table>\n",
              "<p>5 rows × 1027 columns</p>\n",
              "</div>\n",
              "    <div class=\"colab-df-buttons\">\n",
              "\n",
              "  <div class=\"colab-df-container\">\n",
              "    <button class=\"colab-df-convert\" onclick=\"convertToInteractive('df-67f2d8f5-ef3a-4988-a14e-756af41dea24')\"\n",
              "            title=\"Convert this dataframe to an interactive table.\"\n",
              "            style=\"display:none;\">\n",
              "\n",
              "  <svg xmlns=\"http://www.w3.org/2000/svg\" height=\"24px\" viewBox=\"0 -960 960 960\">\n",
              "    <path d=\"M120-120v-720h720v720H120Zm60-500h600v-160H180v160Zm220 220h160v-160H400v160Zm0 220h160v-160H400v160ZM180-400h160v-160H180v160Zm440 0h160v-160H620v160ZM180-180h160v-160H180v160Zm440 0h160v-160H620v160Z\"/>\n",
              "  </svg>\n",
              "    </button>\n",
              "\n",
              "  <style>\n",
              "    .colab-df-container {\n",
              "      display:flex;\n",
              "      gap: 12px;\n",
              "    }\n",
              "\n",
              "    .colab-df-convert {\n",
              "      background-color: #E8F0FE;\n",
              "      border: none;\n",
              "      border-radius: 50%;\n",
              "      cursor: pointer;\n",
              "      display: none;\n",
              "      fill: #1967D2;\n",
              "      height: 32px;\n",
              "      padding: 0 0 0 0;\n",
              "      width: 32px;\n",
              "    }\n",
              "\n",
              "    .colab-df-convert:hover {\n",
              "      background-color: #E2EBFA;\n",
              "      box-shadow: 0px 1px 2px rgba(60, 64, 67, 0.3), 0px 1px 3px 1px rgba(60, 64, 67, 0.15);\n",
              "      fill: #174EA6;\n",
              "    }\n",
              "\n",
              "    .colab-df-buttons div {\n",
              "      margin-bottom: 4px;\n",
              "    }\n",
              "\n",
              "    [theme=dark] .colab-df-convert {\n",
              "      background-color: #3B4455;\n",
              "      fill: #D2E3FC;\n",
              "    }\n",
              "\n",
              "    [theme=dark] .colab-df-convert:hover {\n",
              "      background-color: #434B5C;\n",
              "      box-shadow: 0px 1px 3px 1px rgba(0, 0, 0, 0.15);\n",
              "      filter: drop-shadow(0px 1px 2px rgba(0, 0, 0, 0.3));\n",
              "      fill: #FFFFFF;\n",
              "    }\n",
              "  </style>\n",
              "\n",
              "    <script>\n",
              "      const buttonEl =\n",
              "        document.querySelector('#df-67f2d8f5-ef3a-4988-a14e-756af41dea24 button.colab-df-convert');\n",
              "      buttonEl.style.display =\n",
              "        google.colab.kernel.accessAllowed ? 'block' : 'none';\n",
              "\n",
              "      async function convertToInteractive(key) {\n",
              "        const element = document.querySelector('#df-67f2d8f5-ef3a-4988-a14e-756af41dea24');\n",
              "        const dataTable =\n",
              "          await google.colab.kernel.invokeFunction('convertToInteractive',\n",
              "                                                    [key], {});\n",
              "        if (!dataTable) return;\n",
              "\n",
              "        const docLinkHtml = 'Like what you see? Visit the ' +\n",
              "          '<a target=\"_blank\" href=https://colab.research.google.com/notebooks/data_table.ipynb>data table notebook</a>'\n",
              "          + ' to learn more about interactive tables.';\n",
              "        element.innerHTML = '';\n",
              "        dataTable['output_type'] = 'display_data';\n",
              "        await google.colab.output.renderOutput(dataTable, element);\n",
              "        const docLink = document.createElement('div');\n",
              "        docLink.innerHTML = docLinkHtml;\n",
              "        element.appendChild(docLink);\n",
              "      }\n",
              "    </script>\n",
              "  </div>\n",
              "\n",
              "\n",
              "    <div id=\"df-45279035-912d-409d-9496-273cf55deb0e\">\n",
              "      <button class=\"colab-df-quickchart\" onclick=\"quickchart('df-45279035-912d-409d-9496-273cf55deb0e')\"\n",
              "                title=\"Suggest charts\"\n",
              "                style=\"display:none;\">\n",
              "\n",
              "<svg xmlns=\"http://www.w3.org/2000/svg\" height=\"24px\"viewBox=\"0 0 24 24\"\n",
              "     width=\"24px\">\n",
              "    <g>\n",
              "        <path d=\"M19 3H5c-1.1 0-2 .9-2 2v14c0 1.1.9 2 2 2h14c1.1 0 2-.9 2-2V5c0-1.1-.9-2-2-2zM9 17H7v-7h2v7zm4 0h-2V7h2v10zm4 0h-2v-4h2v4z\"/>\n",
              "    </g>\n",
              "</svg>\n",
              "      </button>\n",
              "\n",
              "<style>\n",
              "  .colab-df-quickchart {\n",
              "      --bg-color: #E8F0FE;\n",
              "      --fill-color: #1967D2;\n",
              "      --hover-bg-color: #E2EBFA;\n",
              "      --hover-fill-color: #174EA6;\n",
              "      --disabled-fill-color: #AAA;\n",
              "      --disabled-bg-color: #DDD;\n",
              "  }\n",
              "\n",
              "  [theme=dark] .colab-df-quickchart {\n",
              "      --bg-color: #3B4455;\n",
              "      --fill-color: #D2E3FC;\n",
              "      --hover-bg-color: #434B5C;\n",
              "      --hover-fill-color: #FFFFFF;\n",
              "      --disabled-bg-color: #3B4455;\n",
              "      --disabled-fill-color: #666;\n",
              "  }\n",
              "\n",
              "  .colab-df-quickchart {\n",
              "    background-color: var(--bg-color);\n",
              "    border: none;\n",
              "    border-radius: 50%;\n",
              "    cursor: pointer;\n",
              "    display: none;\n",
              "    fill: var(--fill-color);\n",
              "    height: 32px;\n",
              "    padding: 0;\n",
              "    width: 32px;\n",
              "  }\n",
              "\n",
              "  .colab-df-quickchart:hover {\n",
              "    background-color: var(--hover-bg-color);\n",
              "    box-shadow: 0 1px 2px rgba(60, 64, 67, 0.3), 0 1px 3px 1px rgba(60, 64, 67, 0.15);\n",
              "    fill: var(--button-hover-fill-color);\n",
              "  }\n",
              "\n",
              "  .colab-df-quickchart-complete:disabled,\n",
              "  .colab-df-quickchart-complete:disabled:hover {\n",
              "    background-color: var(--disabled-bg-color);\n",
              "    fill: var(--disabled-fill-color);\n",
              "    box-shadow: none;\n",
              "  }\n",
              "\n",
              "  .colab-df-spinner {\n",
              "    border: 2px solid var(--fill-color);\n",
              "    border-color: transparent;\n",
              "    border-bottom-color: var(--fill-color);\n",
              "    animation:\n",
              "      spin 1s steps(1) infinite;\n",
              "  }\n",
              "\n",
              "  @keyframes spin {\n",
              "    0% {\n",
              "      border-color: transparent;\n",
              "      border-bottom-color: var(--fill-color);\n",
              "      border-left-color: var(--fill-color);\n",
              "    }\n",
              "    20% {\n",
              "      border-color: transparent;\n",
              "      border-left-color: var(--fill-color);\n",
              "      border-top-color: var(--fill-color);\n",
              "    }\n",
              "    30% {\n",
              "      border-color: transparent;\n",
              "      border-left-color: var(--fill-color);\n",
              "      border-top-color: var(--fill-color);\n",
              "      border-right-color: var(--fill-color);\n",
              "    }\n",
              "    40% {\n",
              "      border-color: transparent;\n",
              "      border-right-color: var(--fill-color);\n",
              "      border-top-color: var(--fill-color);\n",
              "    }\n",
              "    60% {\n",
              "      border-color: transparent;\n",
              "      border-right-color: var(--fill-color);\n",
              "    }\n",
              "    80% {\n",
              "      border-color: transparent;\n",
              "      border-right-color: var(--fill-color);\n",
              "      border-bottom-color: var(--fill-color);\n",
              "    }\n",
              "    90% {\n",
              "      border-color: transparent;\n",
              "      border-bottom-color: var(--fill-color);\n",
              "    }\n",
              "  }\n",
              "</style>\n",
              "\n",
              "      <script>\n",
              "        async function quickchart(key) {\n",
              "          const quickchartButtonEl =\n",
              "            document.querySelector('#' + key + ' button');\n",
              "          quickchartButtonEl.disabled = true;  // To prevent multiple clicks.\n",
              "          quickchartButtonEl.classList.add('colab-df-spinner');\n",
              "          try {\n",
              "            const charts = await google.colab.kernel.invokeFunction(\n",
              "                'suggestCharts', [key], {});\n",
              "          } catch (error) {\n",
              "            console.error('Error during call to suggestCharts:', error);\n",
              "          }\n",
              "          quickchartButtonEl.classList.remove('colab-df-spinner');\n",
              "          quickchartButtonEl.classList.add('colab-df-quickchart-complete');\n",
              "        }\n",
              "        (() => {\n",
              "          let quickchartButtonEl =\n",
              "            document.querySelector('#df-45279035-912d-409d-9496-273cf55deb0e button');\n",
              "          quickchartButtonEl.style.display =\n",
              "            google.colab.kernel.accessAllowed ? 'block' : 'none';\n",
              "        })();\n",
              "      </script>\n",
              "    </div>\n",
              "\n",
              "    </div>\n",
              "  </div>\n"
            ],
            "application/vnd.google.colaboratory.intrinsic+json": {
              "type": "dataframe",
              "variable_name": "df"
            }
          },
          "metadata": {},
          "execution_count": 35
        }
      ]
    },
    {
      "cell_type": "code",
      "source": [],
      "metadata": {
        "id": "b3gwnThhLwE4"
      },
      "execution_count": 35,
      "outputs": []
    },
    {
      "cell_type": "code",
      "source": [],
      "metadata": {
        "id": "cb7ail0KmcAK"
      },
      "execution_count": 35,
      "outputs": []
    },
    {
      "cell_type": "markdown",
      "source": [
        "# Getting the dependent and Independent features as X and y"
      ],
      "metadata": {
        "id": "Dk5WOR1nd_Xl"
      }
    },
    {
      "cell_type": "code",
      "source": [
        "from sklearn.model_selection import train_test_split\n",
        "from sklearn.preprocessing import StandardScaler\n",
        "from sklearn.metrics import accuracy_score, classification_report\n",
        "\n"
      ],
      "metadata": {
        "id": "pCHHmnq4LwHv"
      },
      "execution_count": 36,
      "outputs": []
    },
    {
      "cell_type": "code",
      "source": [
        "X = df[df.columns[2:-1]].values\n",
        "X.shape"
      ],
      "metadata": {
        "colab": {
          "base_uri": "https://localhost:8080/"
        },
        "id": "x2iv_aA-ZC42",
        "outputId": "0382c048-08bf-4d14-ec56-6e68d5b29a93"
      },
      "execution_count": 37,
      "outputs": [
        {
          "output_type": "execute_result",
          "data": {
            "text/plain": [
              "(3322, 1024)"
            ]
          },
          "metadata": {},
          "execution_count": 37
        }
      ]
    },
    {
      "cell_type": "code",
      "source": [
        "X"
      ],
      "metadata": {
        "colab": {
          "base_uri": "https://localhost:8080/"
        },
        "id": "SrV6GoCPnEiz",
        "outputId": "2fb85ad9-1a89-4c45-cd20-7a3086447ddb"
      },
      "execution_count": 38,
      "outputs": [
        {
          "output_type": "execute_result",
          "data": {
            "text/plain": [
              "array([[ 0.13867523,  0.11495434,  0.01661059, ..., -0.07104592,\n",
              "        -0.13130371, -0.10525029],\n",
              "       [ 0.2954981 ,  0.2527705 , -0.04334373, ..., -0.22675605,\n",
              "        -0.14933859,  0.09364036],\n",
              "       [ 0.21370208, -0.02624705,  0.02250302, ..., -0.05392532,\n",
              "        -0.18940753, -0.11445538],\n",
              "       ...,\n",
              "       [ 0.26106915,  0.1971069 , -0.2205918 , ..., -0.09332349,\n",
              "        -0.11929336,  0.06442736],\n",
              "       [ 0.20894983,  0.04886873, -0.12859339, ..., -0.04567585,\n",
              "         0.00728796, -0.10118937],\n",
              "       [ 0.08272641,  0.17564397, -0.34890774, ..., -0.04044129,\n",
              "         0.02402879,  0.0062374 ]])"
            ]
          },
          "metadata": {},
          "execution_count": 38
        }
      ]
    },
    {
      "cell_type": "code",
      "source": [
        "y = df.iloc[:, -1].values  # As a NumPy array"
      ],
      "metadata": {
        "id": "ZdNq--0XL1tq"
      },
      "execution_count": 39,
      "outputs": []
    },
    {
      "cell_type": "code",
      "source": [
        "y.shape"
      ],
      "metadata": {
        "colab": {
          "base_uri": "https://localhost:8080/"
        },
        "id": "cWA0ZMeZLwKk",
        "outputId": "cb2d4394-a6ae-4ff0-ab23-253c16e21c79"
      },
      "execution_count": 40,
      "outputs": [
        {
          "output_type": "execute_result",
          "data": {
            "text/plain": [
              "(3322,)"
            ]
          },
          "metadata": {},
          "execution_count": 40
        }
      ]
    },
    {
      "cell_type": "markdown",
      "source": [
        "# Define the Train Test Split. The test data will be 20%"
      ],
      "metadata": {
        "id": "rI3qVJipeDST"
      }
    },
    {
      "cell_type": "code",
      "source": [
        "X_train, X_test, y_train, y_test = train_test_split(X, y, test_size=0.2, random_state=42)"
      ],
      "metadata": {
        "id": "J8Glg0ulZmTE"
      },
      "execution_count": 41,
      "outputs": []
    },
    {
      "cell_type": "code",
      "source": [
        "X_train.shape"
      ],
      "metadata": {
        "colab": {
          "base_uri": "https://localhost:8080/"
        },
        "id": "w2pSxpONZmVp",
        "outputId": "12614fc7-9d62-423f-c66a-ce1cad56673c"
      },
      "execution_count": 42,
      "outputs": [
        {
          "output_type": "execute_result",
          "data": {
            "text/plain": [
              "(2657, 1024)"
            ]
          },
          "metadata": {},
          "execution_count": 42
        }
      ]
    },
    {
      "cell_type": "code",
      "source": [
        "y_train.shape"
      ],
      "metadata": {
        "colab": {
          "base_uri": "https://localhost:8080/"
        },
        "id": "yIidFLFdZmYW",
        "outputId": "a9412798-4ce5-4623-b7a9-9c9d5fbf2129"
      },
      "execution_count": 43,
      "outputs": [
        {
          "output_type": "execute_result",
          "data": {
            "text/plain": [
              "(2657,)"
            ]
          },
          "metadata": {},
          "execution_count": 43
        }
      ]
    },
    {
      "cell_type": "markdown",
      "source": [
        "Standardization of Input features"
      ],
      "metadata": {
        "id": "x_EyYUfwebx6"
      }
    },
    {
      "cell_type": "code",
      "source": [
        "scaler = StandardScaler()\n",
        "X_train = scaler.fit_transform(X_train)"
      ],
      "metadata": {
        "id": "0e3gykjbZmb3"
      },
      "execution_count": 44,
      "outputs": []
    },
    {
      "cell_type": "code",
      "source": [
        "X_test = scaler.transform(X_test)"
      ],
      "metadata": {
        "id": "_kOYyTRyZwZX"
      },
      "execution_count": 45,
      "outputs": []
    },
    {
      "cell_type": "code",
      "source": [
        "# X_train = X_train.T\n",
        "X_train.shape"
      ],
      "metadata": {
        "colab": {
          "base_uri": "https://localhost:8080/"
        },
        "id": "N-EdUU0zZxD0",
        "outputId": "3c3e6dae-b7d3-4ca0-edda-a85345009b38"
      },
      "execution_count": 46,
      "outputs": [
        {
          "output_type": "execute_result",
          "data": {
            "text/plain": [
              "(2657, 1024)"
            ]
          },
          "metadata": {},
          "execution_count": 46
        }
      ]
    },
    {
      "cell_type": "code",
      "source": [
        "y_test.shape\n",
        "X_test.shape"
      ],
      "metadata": {
        "colab": {
          "base_uri": "https://localhost:8080/"
        },
        "id": "MMqflh6taNHU",
        "outputId": "1e952bbc-064d-4efc-9106-cf3373d331dd"
      },
      "execution_count": 47,
      "outputs": [
        {
          "output_type": "execute_result",
          "data": {
            "text/plain": [
              "(665, 1024)"
            ]
          },
          "metadata": {},
          "execution_count": 47
        }
      ]
    },
    {
      "cell_type": "markdown",
      "source": [
        "# ANN model"
      ],
      "metadata": {
        "id": "eIHPdhsGe2Kp"
      }
    },
    {
      "cell_type": "code",
      "source": [
        "from tensorflow import keras\n",
        "from sklearn.metrics import accuracy_score, classification_report\n",
        "from tensorflow.keras.callbacks import EarlyStopping\n",
        "\n",
        "# Define early stopping\n",
        "early_stop = EarlyStopping(\n",
        "    monitor='val_accuracy',   # Monitor validation accuracy\n",
        "    patience=5,               # Stop after 5 epochs with no improvement\n",
        "    restore_best_weights=True  # Restore the best model weights\n",
        ")\n",
        "\n",
        "# Define the model\n",
        "model = keras.Sequential([\n",
        "    keras.layers.Dense(512, activation='relu', input_shape=(1024,)),\n",
        "    keras.layers.Dropout(0.3),\n",
        "    keras.layers.Dense(256, activation='relu'),\n",
        "    keras.layers.Dropout(0.3),\n",
        "    keras.layers.Dense(128, activation='relu'),\n",
        "    keras.layers.Dense(1, activation='sigmoid')\n",
        "])\n",
        "\n",
        "model.compile(optimizer='adam', loss='binary_crossentropy', metrics=['accuracy'])\n",
        "\n",
        "# Train with early stopping\n",
        "model.fit(\n",
        "    X_train, y_train,\n",
        "    epochs=50,\n",
        "    batch_size=32,\n",
        "    validation_data=(X_test, y_test),\n",
        "    callbacks=[early_stop],\n",
        "    verbose=1\n",
        ")\n",
        "\n",
        "# Predict and evaluate\n",
        "y_pred = (model.predict(X_test) > 0.5).astype(\"int32\")\n",
        "accuracy = accuracy_score(y_test, y_pred)\n",
        "\n",
        "print(f\"Accuracy: {accuracy:.4f}\")\n",
        "print(\"Classification Report:\\n\", classification_report(y_test, y_pred))\n"
      ],
      "metadata": {
        "colab": {
          "base_uri": "https://localhost:8080/"
        },
        "id": "SJ2bGC7nLi2g",
        "outputId": "5878f0f1-7025-41e0-a9fe-e3344256baac"
      },
      "execution_count": 48,
      "outputs": [
        {
          "output_type": "stream",
          "name": "stdout",
          "text": [
            "Epoch 1/50\n"
          ]
        },
        {
          "output_type": "stream",
          "name": "stderr",
          "text": [
            "/usr/local/lib/python3.11/dist-packages/keras/src/layers/core/dense.py:87: UserWarning: Do not pass an `input_shape`/`input_dim` argument to a layer. When using Sequential models, prefer using an `Input(shape)` object as the first layer in the model instead.\n",
            "  super().__init__(activity_regularizer=activity_regularizer, **kwargs)\n"
          ]
        },
        {
          "output_type": "stream",
          "name": "stdout",
          "text": [
            "\u001b[1m84/84\u001b[0m \u001b[32m━━━━━━━━━━━━━━━━━━━━\u001b[0m\u001b[37m\u001b[0m \u001b[1m3s\u001b[0m 15ms/step - accuracy: 0.8256 - loss: 0.4267 - val_accuracy: 0.9233 - val_loss: 0.2134\n",
            "Epoch 2/50\n",
            "\u001b[1m84/84\u001b[0m \u001b[32m━━━━━━━━━━━━━━━━━━━━\u001b[0m\u001b[37m\u001b[0m \u001b[1m2s\u001b[0m 12ms/step - accuracy: 0.9452 - loss: 0.1462 - val_accuracy: 0.9293 - val_loss: 0.1750\n",
            "Epoch 3/50\n",
            "\u001b[1m84/84\u001b[0m \u001b[32m━━━━━━━━━━━━━━━━━━━━\u001b[0m\u001b[37m\u001b[0m \u001b[1m2s\u001b[0m 18ms/step - accuracy: 0.9683 - loss: 0.0948 - val_accuracy: 0.9383 - val_loss: 0.1536\n",
            "Epoch 4/50\n",
            "\u001b[1m84/84\u001b[0m \u001b[32m━━━━━━━━━━━━━━━━━━━━\u001b[0m\u001b[37m\u001b[0m \u001b[1m1s\u001b[0m 17ms/step - accuracy: 0.9648 - loss: 0.0842 - val_accuracy: 0.9519 - val_loss: 0.1477\n",
            "Epoch 5/50\n",
            "\u001b[1m84/84\u001b[0m \u001b[32m━━━━━━━━━━━━━━━━━━━━\u001b[0m\u001b[37m\u001b[0m \u001b[1m1s\u001b[0m 12ms/step - accuracy: 0.9880 - loss: 0.0334 - val_accuracy: 0.9654 - val_loss: 0.1562\n",
            "Epoch 6/50\n",
            "\u001b[1m84/84\u001b[0m \u001b[32m━━━━━━━━━━━━━━━━━━━━\u001b[0m\u001b[37m\u001b[0m \u001b[1m1s\u001b[0m 12ms/step - accuracy: 0.9847 - loss: 0.0434 - val_accuracy: 0.9323 - val_loss: 0.2658\n",
            "Epoch 7/50\n",
            "\u001b[1m84/84\u001b[0m \u001b[32m━━━━━━━━━━━━━━━━━━━━\u001b[0m\u001b[37m\u001b[0m \u001b[1m1s\u001b[0m 12ms/step - accuracy: 0.9786 - loss: 0.0904 - val_accuracy: 0.9579 - val_loss: 0.1069\n",
            "Epoch 8/50\n",
            "\u001b[1m84/84\u001b[0m \u001b[32m━━━━━━━━━━━━━━━━━━━━\u001b[0m\u001b[37m\u001b[0m \u001b[1m1s\u001b[0m 12ms/step - accuracy: 0.9974 - loss: 0.0117 - val_accuracy: 0.9654 - val_loss: 0.1223\n",
            "Epoch 9/50\n",
            "\u001b[1m84/84\u001b[0m \u001b[32m━━━━━━━━━━━━━━━━━━━━\u001b[0m\u001b[37m\u001b[0m \u001b[1m1s\u001b[0m 11ms/step - accuracy: 0.9939 - loss: 0.0197 - val_accuracy: 0.9519 - val_loss: 0.1777\n",
            "Epoch 10/50\n",
            "\u001b[1m84/84\u001b[0m \u001b[32m━━━━━━━━━━━━━━━━━━━━\u001b[0m\u001b[37m\u001b[0m \u001b[1m1s\u001b[0m 11ms/step - accuracy: 0.9885 - loss: 0.0384 - val_accuracy: 0.9609 - val_loss: 0.1392\n",
            "\u001b[1m21/21\u001b[0m \u001b[32m━━━━━━━━━━━━━━━━━━━━\u001b[0m\u001b[37m\u001b[0m \u001b[1m0s\u001b[0m 6ms/step\n",
            "Accuracy: 0.9654\n",
            "Classification Report:\n",
            "               precision    recall  f1-score   support\n",
            "\n",
            "           0       0.97      0.99      0.98       514\n",
            "           1       0.95      0.89      0.92       151\n",
            "\n",
            "    accuracy                           0.97       665\n",
            "   macro avg       0.96      0.94      0.95       665\n",
            "weighted avg       0.97      0.97      0.97       665\n",
            "\n"
          ]
        }
      ]
    },
    {
      "cell_type": "code",
      "source": [
        "import pickle\n",
        "\n",
        "with open('trained_model.pkl', 'wb') as file:\n",
        "    pickle.dump(model, file)\n"
      ],
      "metadata": {
        "id": "FJZ5YBWTpC-W"
      },
      "execution_count": 51,
      "outputs": []
    },
    {
      "cell_type": "code",
      "source": [
        "import pickle\n",
        "\n",
        "with open('trained_model.pkl', 'rb') as file:\n",
        "    model = pickle.load(file)\n",
        "\n",
        "print(model)\n"
      ],
      "metadata": {
        "colab": {
          "base_uri": "https://localhost:8080/"
        },
        "id": "KYOJ1_KZlXd_",
        "outputId": "b23408a9-5ca7-467f-dfda-9b2ef1c2528c"
      },
      "execution_count": 52,
      "outputs": [
        {
          "output_type": "stream",
          "name": "stdout",
          "text": [
            "<Sequential name=sequential_3, built=True>\n"
          ]
        }
      ]
    }
  ]
}